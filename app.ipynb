{
 "cells": [
  {
   "cell_type": "code",
   "execution_count": 2,
   "id": "48c9a004",
   "metadata": {},
   "outputs": [],
   "source": [
    "import pandas as pd\n",
    "import datetime as dt\n",
    "import os\n",
    "import dash\n",
    "from dash import dcc\n",
    "from dash import html\n",
    "from dash.dependencies import Input, Output\n"
   ]
  },
  {
   "cell_type": "code",
   "execution_count": 22,
   "id": "741bdc0f",
   "metadata": {},
   "outputs": [],
   "source": [
    "class db:\n",
    "    def __init__(self):\n",
    "        self.transactions = db.transation_init()\n",
    "        self.cc = pd.read_csv(r'db\\country_codes.csv',index_col=0)\n",
    "        self.customers = pd.read_csv(r'db\\customers.csv',index_col=0)\n",
    "        self.prod_info = pd.read_csv(r'db\\prod_cat_info.csv')"
   ]
  },
  {
   "cell_type": "code",
   "execution_count": 21,
   "id": "b55972cf",
   "metadata": {},
   "outputs": [],
   "source": [
    "@staticmethod\n",
    "def transation_init():\n",
    "    transactions = pd.DataFrame()\n",
    "    src = r'db\\transactions'\n",
    "    for filename in os.listdir(src):\n",
    "        transactions = transactions.append(pd.read_csv(os.path.join(src,filename),index_col=0))\n",
    "\n",
    "    def convert_dates(x):\n",
    "        try:\n",
    "            return dt.datetime.strptime(x,'%d-%m-%Y')\n",
    "        except:\n",
    "            return dt.datetime.strptime(x,'%d/%m/%Y')\n",
    "\n",
    "    transactions['tran_date'] = transactions['tran_date'].apply(lambda x: convert_dates(x))\n",
    "\n",
    "    return transactions"
   ]
  },
  {
   "cell_type": "code",
   "execution_count": 23,
   "id": "9b69e91d",
   "metadata": {},
   "outputs": [],
   "source": [
    "def merge(self):\n",
    "    df = self.transactions.join(self.prod_info.drop_duplicates(subset=['prod_cat_code'])\n",
    "    .set_index('prod_cat_code')['prod_cat'],on='prod_cat_code',how='left')\n",
    "\n",
    "    df = df.join(self.prod_info.drop_duplicates(subset=['prod_sub_cat_code'])\n",
    "    .set_index('prod_sub_cat_code')['prod_subcat'],on='prod_subcat_code',how='left')\n",
    "\n",
    "    df = df.join(self.customers.join(self.cc,on='country_code')\n",
    "    .set_index('customer_Id'),on='cust_id')\n",
    "\n",
    "    self.merged = df"
   ]
  },
  {
   "cell_type": "code",
   "execution_count": 24,
   "id": "4acd3de6",
   "metadata": {},
   "outputs": [
    {
     "ename": "AttributeError",
     "evalue": "type object 'db' has no attribute 'transation_init'",
     "output_type": "error",
     "traceback": [
      "\u001b[1;31m---------------------------------------------------------------------------\u001b[0m",
      "\u001b[1;31mAttributeError\u001b[0m                            Traceback (most recent call last)",
      "Cell \u001b[1;32mIn[24], line 1\u001b[0m\n\u001b[1;32m----> 1\u001b[0m df \u001b[38;5;241m=\u001b[39m \u001b[43mdb\u001b[49m\u001b[43m(\u001b[49m\u001b[43m)\u001b[49m\n",
      "Cell \u001b[1;32mIn[22], line 3\u001b[0m, in \u001b[0;36mdb.__init__\u001b[1;34m(self)\u001b[0m\n\u001b[0;32m      2\u001b[0m \u001b[38;5;28;01mdef\u001b[39;00m \u001b[38;5;21m__init__\u001b[39m(\u001b[38;5;28mself\u001b[39m):\n\u001b[1;32m----> 3\u001b[0m     \u001b[38;5;28mself\u001b[39m\u001b[38;5;241m.\u001b[39mtransactions \u001b[38;5;241m=\u001b[39m \u001b[43mdb\u001b[49m\u001b[38;5;241;43m.\u001b[39;49m\u001b[43mtransation_init\u001b[49m()\n\u001b[0;32m      4\u001b[0m     \u001b[38;5;28mself\u001b[39m\u001b[38;5;241m.\u001b[39mcc \u001b[38;5;241m=\u001b[39m pd\u001b[38;5;241m.\u001b[39mread_csv(\u001b[38;5;124mr\u001b[39m\u001b[38;5;124m'\u001b[39m\u001b[38;5;124mdb\u001b[39m\u001b[38;5;124m\\\u001b[39m\u001b[38;5;124mcountry_codes.csv\u001b[39m\u001b[38;5;124m'\u001b[39m,index_col\u001b[38;5;241m=\u001b[39m\u001b[38;5;241m0\u001b[39m)\n\u001b[0;32m      5\u001b[0m     \u001b[38;5;28mself\u001b[39m\u001b[38;5;241m.\u001b[39mcustomers \u001b[38;5;241m=\u001b[39m pd\u001b[38;5;241m.\u001b[39mread_csv(\u001b[38;5;124mr\u001b[39m\u001b[38;5;124m'\u001b[39m\u001b[38;5;124mdb\u001b[39m\u001b[38;5;124m\\\u001b[39m\u001b[38;5;124mcustomers.csv\u001b[39m\u001b[38;5;124m'\u001b[39m,index_col\u001b[38;5;241m=\u001b[39m\u001b[38;5;241m0\u001b[39m)\n",
      "\u001b[1;31mAttributeError\u001b[0m: type object 'db' has no attribute 'transation_init'"
     ]
    }
   ],
   "source": [
    "df = db()"
   ]
  },
  {
   "cell_type": "code",
   "execution_count": 5,
   "id": "31e46644",
   "metadata": {},
   "outputs": [
    {
     "ename": "AttributeError",
     "evalue": "type object 'db' has no attribute 'transation_init'",
     "output_type": "error",
     "traceback": [
      "\u001b[1;31m---------------------------------------------------------------------------\u001b[0m",
      "\u001b[1;31mAttributeError\u001b[0m                            Traceback (most recent call last)",
      "Cell \u001b[1;32mIn[5], line 1\u001b[0m\n\u001b[1;32m----> 1\u001b[0m df \u001b[38;5;241m=\u001b[39m \u001b[43mdb\u001b[49m\u001b[43m(\u001b[49m\u001b[43m)\u001b[49m\n\u001b[0;32m      2\u001b[0m df\u001b[38;5;241m.\u001b[39mmerge()\n",
      "Cell \u001b[1;32mIn[2], line 10\u001b[0m, in \u001b[0;36mdb.__init__\u001b[1;34m(self)\u001b[0m\n\u001b[0;32m      9\u001b[0m \u001b[38;5;28;01mdef\u001b[39;00m \u001b[38;5;21m__init__\u001b[39m(\u001b[38;5;28mself\u001b[39m):\n\u001b[1;32m---> 10\u001b[0m     \u001b[38;5;28mself\u001b[39m\u001b[38;5;241m.\u001b[39mtransactions \u001b[38;5;241m=\u001b[39m \u001b[43mdb\u001b[49m\u001b[38;5;241;43m.\u001b[39;49m\u001b[43mtransation_init\u001b[49m()\n\u001b[0;32m     11\u001b[0m     \u001b[38;5;28mself\u001b[39m\u001b[38;5;241m.\u001b[39mcc \u001b[38;5;241m=\u001b[39m pd\u001b[38;5;241m.\u001b[39mread_csv(\u001b[38;5;124mr\u001b[39m\u001b[38;5;124m'\u001b[39m\u001b[38;5;124mdb\u001b[39m\u001b[38;5;124m\\\u001b[39m\u001b[38;5;124mcountry_codes.csv\u001b[39m\u001b[38;5;124m'\u001b[39m,index_col\u001b[38;5;241m=\u001b[39m\u001b[38;5;241m0\u001b[39m)\n\u001b[0;32m     12\u001b[0m     \u001b[38;5;28mself\u001b[39m\u001b[38;5;241m.\u001b[39mcustomers \u001b[38;5;241m=\u001b[39m pd\u001b[38;5;241m.\u001b[39mread_csv(\u001b[38;5;124mr\u001b[39m\u001b[38;5;124m'\u001b[39m\u001b[38;5;124mdb\u001b[39m\u001b[38;5;124m\\\u001b[39m\u001b[38;5;124mcustomers.csv\u001b[39m\u001b[38;5;124m'\u001b[39m,index_col\u001b[38;5;241m=\u001b[39m\u001b[38;5;241m0\u001b[39m)\n",
      "\u001b[1;31mAttributeError\u001b[0m: type object 'db' has no attribute 'transation_init'"
     ]
    }
   ],
   "source": [
    "\n",
    "df.merge()"
   ]
  },
  {
   "cell_type": "code",
   "execution_count": null,
   "id": "d3c12ad2",
   "metadata": {},
   "outputs": [],
   "source": []
  },
  {
   "cell_type": "code",
   "execution_count": null,
   "id": "af78b81c",
   "metadata": {},
   "outputs": [],
   "source": []
  }
 ],
 "metadata": {
  "kernelspec": {
   "display_name": "Python 3 (ipykernel)",
   "language": "python",
   "name": "python3"
  },
  "language_info": {
   "codemirror_mode": {
    "name": "ipython",
    "version": 3
   },
   "file_extension": ".py",
   "mimetype": "text/x-python",
   "name": "python",
   "nbconvert_exporter": "python",
   "pygments_lexer": "ipython3",
   "version": "3.9.10"
  }
 },
 "nbformat": 4,
 "nbformat_minor": 5
}
